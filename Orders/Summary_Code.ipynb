{
    "metadata": {
        "kernelspec": {
            "name": "SQL",
            "display_name": "SQL",
            "language": "sql"
        },
        "language_info": {
            "name": "sql",
            "version": ""
        }
    },
    "nbformat_minor": 2,
    "nbformat": 4,
    "cells": [
        {
            "cell_type": "code",
            "source": [
                "select \r\n",
                "    Year(OrderDate) as Ord_Year\r\n",
                "    , Month(OrderDate) as Ord_Month \r\n",
                "    , sum(Quantity) as Total_Quantity\r\n",
                "from dbo.OrderDetails\r\n",
                "group by Year(OrderDate), Month(OrderDate)\r\n",
                "order by 1,2"
            ],
            "metadata": {
                "azdata_cell_guid": "a3e4de2e-819b-4a7d-90c2-c8a2df1bc02c",
                "language": "sql"
            },
            "outputs": [
                {
                    "output_type": "display_data",
                    "data": {
                        "text/html": "(24 rows affected)"
                    },
                    "metadata": {}
                },
                {
                    "output_type": "display_data",
                    "data": {
                        "text/html": "Total execution time: 00:00:00.056"
                    },
                    "metadata": {}
                },
                {
                    "output_type": "execute_result",
                    "metadata": {},
                    "execution_count": 9,
                    "data": {
                        "application/vnd.dataresource+json": {
                            "schema": {
                                "fields": [
                                    {
                                        "name": "Ord_Year"
                                    },
                                    {
                                        "name": "Ord_Month"
                                    },
                                    {
                                        "name": "Total_Quantity"
                                    }
                                ]
                            },
                            "data": [
                                {
                                    "0": "2015",
                                    "1": "1",
                                    "2": "2249"
                                },
                                {
                                    "0": "2015",
                                    "1": "2",
                                    "2": "2326"
                                },
                                {
                                    "0": "2015",
                                    "1": "3",
                                    "2": "2266"
                                },
                                {
                                    "0": "2015",
                                    "1": "4",
                                    "2": "2289"
                                },
                                {
                                    "0": "2015",
                                    "1": "5",
                                    "2": "2479"
                                },
                                {
                                    "0": "2015",
                                    "1": "6",
                                    "2": "2468"
                                },
                                {
                                    "0": "2015",
                                    "1": "7",
                                    "2": "2382"
                                },
                                {
                                    "0": "2015",
                                    "1": "8",
                                    "2": "2634"
                                },
                                {
                                    "0": "2015",
                                    "1": "9",
                                    "2": "2221"
                                },
                                {
                                    "0": "2015",
                                    "1": "10",
                                    "2": "2325"
                                },
                                {
                                    "0": "2015",
                                    "1": "11",
                                    "2": "2354"
                                },
                                {
                                    "0": "2015",
                                    "1": "12",
                                    "2": "2215"
                                },
                                {
                                    "0": "2016",
                                    "1": "1",
                                    "2": "2431"
                                },
                                {
                                    "0": "2016",
                                    "1": "2",
                                    "2": "2017"
                                },
                                {
                                    "0": "2016",
                                    "1": "3",
                                    "2": "2535"
                                },
                                {
                                    "0": "2016",
                                    "1": "4",
                                    "2": "2556"
                                },
                                {
                                    "0": "2016",
                                    "1": "5",
                                    "2": "2588"
                                },
                                {
                                    "0": "2016",
                                    "1": "6",
                                    "2": "2490"
                                },
                                {
                                    "0": "2016",
                                    "1": "7",
                                    "2": "2351"
                                },
                                {
                                    "0": "2016",
                                    "1": "8",
                                    "2": "2201"
                                },
                                {
                                    "0": "2016",
                                    "1": "9",
                                    "2": "2044"
                                },
                                {
                                    "0": "2016",
                                    "1": "10",
                                    "2": "2325"
                                },
                                {
                                    "0": "2016",
                                    "1": "11",
                                    "2": "1963"
                                },
                                {
                                    "0": "2016",
                                    "1": "12",
                                    "2": "1967"
                                }
                            ]
                        },
                        "text/html": [
                            "<table>",
                            "<tr><th>Ord_Year</th><th>Ord_Month</th><th>Total_Quantity</th></tr>",
                            "<tr><td>2015</td><td>1</td><td>2249</td></tr>",
                            "<tr><td>2015</td><td>2</td><td>2326</td></tr>",
                            "<tr><td>2015</td><td>3</td><td>2266</td></tr>",
                            "<tr><td>2015</td><td>4</td><td>2289</td></tr>",
                            "<tr><td>2015</td><td>5</td><td>2479</td></tr>",
                            "<tr><td>2015</td><td>6</td><td>2468</td></tr>",
                            "<tr><td>2015</td><td>7</td><td>2382</td></tr>",
                            "<tr><td>2015</td><td>8</td><td>2634</td></tr>",
                            "<tr><td>2015</td><td>9</td><td>2221</td></tr>",
                            "<tr><td>2015</td><td>10</td><td>2325</td></tr>",
                            "<tr><td>2015</td><td>11</td><td>2354</td></tr>",
                            "<tr><td>2015</td><td>12</td><td>2215</td></tr>",
                            "<tr><td>2016</td><td>1</td><td>2431</td></tr>",
                            "<tr><td>2016</td><td>2</td><td>2017</td></tr>",
                            "<tr><td>2016</td><td>3</td><td>2535</td></tr>",
                            "<tr><td>2016</td><td>4</td><td>2556</td></tr>",
                            "<tr><td>2016</td><td>5</td><td>2588</td></tr>",
                            "<tr><td>2016</td><td>6</td><td>2490</td></tr>",
                            "<tr><td>2016</td><td>7</td><td>2351</td></tr>",
                            "<tr><td>2016</td><td>8</td><td>2201</td></tr>",
                            "<tr><td>2016</td><td>9</td><td>2044</td></tr>",
                            "<tr><td>2016</td><td>10</td><td>2325</td></tr>",
                            "<tr><td>2016</td><td>11</td><td>1963</td></tr>",
                            "<tr><td>2016</td><td>12</td><td>1967</td></tr>",
                            "</table>"
                        ]
                    }
                }
            ],
            "execution_count": 9
        }
    ]
}